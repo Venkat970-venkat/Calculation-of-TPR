{
 "cells": [
  {
   "cell_type": "code",
   "execution_count": 1,
   "id": "5b9c0e38",
   "metadata": {},
   "outputs": [],
   "source": [
    "import pandas as pd\n",
    "import numpy \n",
    "import matplotlib.pyplot as plt\n",
    "import math"
   ]
  },
  {
   "cell_type": "code",
   "execution_count": 2,
   "id": "63a28d90",
   "metadata": {},
   "outputs": [
    {
     "data": {
      "text/plain": [
       "1065.1225704123076"
      ]
     },
     "execution_count": 2,
     "metadata": {},
     "output_type": "execute_result"
    }
   ],
   "source": [
    "l=math.exp(0.5)*800**2+((6.67*10**(-4))*(math.exp(5)-1)*0.0138*(200**2)*(0.84**2)*(635**2)/2.87**5)\n",
    "math.sqrt(l)"
   ]
  },
  {
   "cell_type": "markdown",
   "id": "ef9d0ce4",
   "metadata": {},
   "source": [
    "$Pwf2=exp(s)*Phf2+(6.67*10**-4*(exp(s)-1)*f*Q2*Z2*T2)/Di**5*cosx$"
   ]
  },
  {
   "cell_type": "markdown",
   "id": "03cf40fe",
   "metadata": {},
   "source": [
    "$skin=0.0375*rg*L*cosx/ZT$"
   ]
  },
  {
   "cell_type": "markdown",
   "id": "998c4e29",
   "metadata": {},
   "source": [
    "$f=0.01750/Di**0.224$    if Di<4.277 inch\n"
   ]
  },
  {
   "cell_type": "markdown",
   "id": "d979c29b",
   "metadata": {},
   "source": [
    "$f=0.01603/Di**0.164$    if Di>4.277 inch"
   ]
  },
  {
   "cell_type": "code",
   "execution_count": 3,
   "id": "45e7b505",
   "metadata": {},
   "outputs": [
    {
     "name": "stdout",
     "output_type": "stream",
     "text": [
      "enter value for Di=2.87\n"
     ]
    }
   ],
   "source": [
    "Di=float(input('enter value for Di='))"
   ]
  },
  {
   "cell_type": "code",
   "execution_count": 4,
   "id": "375674f4",
   "metadata": {},
   "outputs": [
    {
     "name": "stdout",
     "output_type": "stream",
     "text": [
      "0.01348468765254794\n"
     ]
    }
   ],
   "source": [
    "if Di>=4.277:\n",
    "    f=0.01750/Di**0.224\n",
    "    print(f)\n",
    "else:\n",
    "    f=0.01603/Di**0.164\n",
    "    print(f)"
   ]
  },
  {
   "cell_type": "code",
   "execution_count": 5,
   "id": "d8668ac8",
   "metadata": {},
   "outputs": [
    {
     "name": "stdout",
     "output_type": "stream",
     "text": [
      "enter sp_gr_gas=0.87\n",
      "enter Lenght_well=10000\n",
      "enter inclination angle of well=0\n",
      "enter comp_factor=0.87\n",
      "enter avg_temp=635\n"
     ]
    }
   ],
   "source": [
    "sp_gr_gas=float(input('enter sp_gr_gas='))\n",
    "Lenght_well=float(input('enter Lenght_well='))\n",
    "x=float(input('enter inclination angle of well='))\n",
    "comp_factor=float(input('enter comp_factor='))\n",
    "avg_temp=float(input('enter avg_temp='))\n"
   ]
  },
  {
   "cell_type": "code",
   "execution_count": 6,
   "id": "fe8ac12c",
   "metadata": {},
   "outputs": [
    {
     "data": {
      "text/plain": [
       "0.5905511811023622"
      ]
     },
     "execution_count": 6,
     "metadata": {},
     "output_type": "execute_result"
    }
   ],
   "source": [
    "skin=0.0375*sp_gr_gas*Lenght_well*math.cos(x)/(comp_factor*avg_temp)\n",
    "skin"
   ]
  },
  {
   "cell_type": "code",
   "execution_count": 11,
   "id": "b608d575",
   "metadata": {},
   "outputs": [
    {
     "name": "stdout",
     "output_type": "stream",
     "text": [
      "enter the flow rate=2000\n",
      "surface pressure=800\n"
     ]
    }
   ],
   "source": [
    "Q=float(input('enter the flow rate='))\n",
    "surface_pre=float(input('surface pressure='))"
   ]
  },
  {
   "cell_type": "code",
   "execution_count": 12,
   "id": "83f156bc",
   "metadata": {},
   "outputs": [
    {
     "data": {
      "text/plain": [
       "1095.7108356383733"
      ]
     },
     "execution_count": 12,
     "metadata": {},
     "output_type": "execute_result"
    }
   ],
   "source": [
    "Pwf=math.exp(skin)*surface_pre**2+(6.67*10**-4*(math.exp(skin)-1)*f*Q**2*comp_factor**2*avg_temp**2)/Di**5*math.cos(x)\n",
    "pwf1=math.sqrt(Pwf)\n",
    "pwf1"
   ]
  },
  {
   "cell_type": "code",
   "execution_count": 14,
   "id": "0a9a3655",
   "metadata": {},
   "outputs": [
    {
     "name": "stdout",
     "output_type": "stream",
     "text": [
      "Enter number of pwf's : 4\n",
      "1100\n",
      "1500\n",
      "2000\n",
      "2500\n",
      "[1100, 1500, 2000, 2500]\n"
     ]
    }
   ],
   "source": [
    "pwf=[]\n",
    "n = int(input(\"Enter number of pwf's : \")) \n",
    "for i in range(0, n): \n",
    "    ele= int(input()) \n",
    "    pwf.append(ele)\n",
    "print(pwf)"
   ]
  },
  {
   "cell_type": "code",
   "execution_count": 15,
   "id": "9b3c2b33",
   "metadata": {},
   "outputs": [
    {
     "data": {
      "text/plain": [
       "[2250.0349526188675,\n",
       " 10056.004586889332,\n",
       " 16209.984950159786,\n",
       " 21693.016450615272]"
      ]
     },
     "execution_count": 15,
     "metadata": {},
     "output_type": "execute_result"
    }
   ],
   "source": [
    "q_flow=[]\n",
    "for i in range(0,len(pwf)):\n",
    "    q2=(pwf[i]**2-(math.exp(skin)*surface_pre**2))*2.87**5/(6.67*10**-4*(math.exp(skin)-1)*0.0138*0.84**2*635**2)\n",
    "    q=math.sqrt(q2)\n",
    "    q_flow.append(q)\n",
    "q_flow"
   ]
  },
  {
   "cell_type": "code",
   "execution_count": 28,
   "id": "2bddcaa1",
   "metadata": {},
   "outputs": [],
   "source": [
    "output=pd.DataFrame([pwf,q_flow]).transpose()\n",
    "output.columns=['pwf','q_flow']\n",
    "q_flow=output.q_flow/1000"
   ]
  },
  {
   "cell_type": "code",
   "execution_count": 29,
   "id": "acc7efd8",
   "metadata": {},
   "outputs": [
    {
     "data": {
      "text/html": [
       "<div>\n",
       "<style scoped>\n",
       "    .dataframe tbody tr th:only-of-type {\n",
       "        vertical-align: middle;\n",
       "    }\n",
       "\n",
       "    .dataframe tbody tr th {\n",
       "        vertical-align: top;\n",
       "    }\n",
       "\n",
       "    .dataframe thead th {\n",
       "        text-align: right;\n",
       "    }\n",
       "</style>\n",
       "<table border=\"1\" class=\"dataframe\">\n",
       "  <thead>\n",
       "    <tr style=\"text-align: right;\">\n",
       "      <th></th>\n",
       "      <th>pwf</th>\n",
       "      <th>q_flow</th>\n",
       "    </tr>\n",
       "  </thead>\n",
       "  <tbody>\n",
       "    <tr>\n",
       "      <th>0</th>\n",
       "      <td>1100.0</td>\n",
       "      <td>2250.034953</td>\n",
       "    </tr>\n",
       "    <tr>\n",
       "      <th>1</th>\n",
       "      <td>1500.0</td>\n",
       "      <td>10056.004587</td>\n",
       "    </tr>\n",
       "    <tr>\n",
       "      <th>2</th>\n",
       "      <td>2000.0</td>\n",
       "      <td>16209.984950</td>\n",
       "    </tr>\n",
       "    <tr>\n",
       "      <th>3</th>\n",
       "      <td>2500.0</td>\n",
       "      <td>21693.016451</td>\n",
       "    </tr>\n",
       "  </tbody>\n",
       "</table>\n",
       "</div>"
      ],
      "text/plain": [
       "      pwf        q_flow\n",
       "0  1100.0   2250.034953\n",
       "1  1500.0  10056.004587\n",
       "2  2000.0  16209.984950\n",
       "3  2500.0  21693.016451"
      ]
     },
     "execution_count": 29,
     "metadata": {},
     "output_type": "execute_result"
    }
   ],
   "source": [
    "output"
   ]
  },
  {
   "cell_type": "code",
   "execution_count": 39,
   "id": "f5abb1e8",
   "metadata": {},
   "outputs": [
    {
     "data": {
      "text/html": [
       "<div>\n",
       "<style scoped>\n",
       "    .dataframe tbody tr th:only-of-type {\n",
       "        vertical-align: middle;\n",
       "    }\n",
       "\n",
       "    .dataframe tbody tr th {\n",
       "        vertical-align: top;\n",
       "    }\n",
       "\n",
       "    .dataframe thead th {\n",
       "        text-align: right;\n",
       "    }\n",
       "</style>\n",
       "<table border=\"1\" class=\"dataframe\">\n",
       "  <thead>\n",
       "    <tr style=\"text-align: right;\">\n",
       "      <th></th>\n",
       "      <th>q_flow</th>\n",
       "      <th>pwf</th>\n",
       "    </tr>\n",
       "  </thead>\n",
       "  <tbody>\n",
       "    <tr>\n",
       "      <th>0</th>\n",
       "      <td>2000.0</td>\n",
       "      <td>1095.710836</td>\n",
       "    </tr>\n",
       "  </tbody>\n",
       "</table>\n",
       "</div>"
      ],
      "text/plain": [
       "   q_flow          pwf\n",
       "0  2000.0  1095.710836"
      ]
     },
     "execution_count": 39,
     "metadata": {},
     "output_type": "execute_result"
    }
   ],
   "source": [
    "a=pd.DataFrame([Q,pwf1]).transpose()\n",
    "a.columns=['q_flow','pwf']\n",
    "a"
   ]
  },
  {
   "cell_type": "code",
   "execution_count": 41,
   "id": "6f4d87f7",
   "metadata": {},
   "outputs": [
    {
     "data": {
      "text/html": [
       "<div>\n",
       "<style scoped>\n",
       "    .dataframe tbody tr th:only-of-type {\n",
       "        vertical-align: middle;\n",
       "    }\n",
       "\n",
       "    .dataframe tbody tr th {\n",
       "        vertical-align: top;\n",
       "    }\n",
       "\n",
       "    .dataframe thead th {\n",
       "        text-align: right;\n",
       "    }\n",
       "</style>\n",
       "<table border=\"1\" class=\"dataframe\">\n",
       "  <thead>\n",
       "    <tr style=\"text-align: right;\">\n",
       "      <th></th>\n",
       "      <th>pwf</th>\n",
       "      <th>q_flow</th>\n",
       "    </tr>\n",
       "  </thead>\n",
       "  <tbody>\n",
       "    <tr>\n",
       "      <th>0</th>\n",
       "      <td>1100.000000</td>\n",
       "      <td>2250.034953</td>\n",
       "    </tr>\n",
       "    <tr>\n",
       "      <th>1</th>\n",
       "      <td>1500.000000</td>\n",
       "      <td>10056.004587</td>\n",
       "    </tr>\n",
       "    <tr>\n",
       "      <th>2</th>\n",
       "      <td>2000.000000</td>\n",
       "      <td>16209.984950</td>\n",
       "    </tr>\n",
       "    <tr>\n",
       "      <th>3</th>\n",
       "      <td>2500.000000</td>\n",
       "      <td>21693.016451</td>\n",
       "    </tr>\n",
       "    <tr>\n",
       "      <th>0</th>\n",
       "      <td>1095.710836</td>\n",
       "      <td>2000.000000</td>\n",
       "    </tr>\n",
       "  </tbody>\n",
       "</table>\n",
       "</div>"
      ],
      "text/plain": [
       "           pwf        q_flow\n",
       "0  1100.000000   2250.034953\n",
       "1  1500.000000  10056.004587\n",
       "2  2000.000000  16209.984950\n",
       "3  2500.000000  21693.016451\n",
       "0  1095.710836   2000.000000"
      ]
     },
     "execution_count": 41,
     "metadata": {},
     "output_type": "execute_result"
    }
   ],
   "source": [
    "pd.concat([output,a])"
   ]
  },
  {
   "cell_type": "code",
   "execution_count": 43,
   "id": "50a2d943",
   "metadata": {},
   "outputs": [
    {
     "data": {
      "image/png": "[encoded data removed]",
      "text/plain": [
       "<Figure size 432x288 with 1 Axes>"
      ]
     },
     "metadata": {
      "needs_background": "light"
     },
     "output_type": "display_data"
    }
   ],
   "source": [
    "import seaborn as sns\n",
    "sns.lineplot(data=output,y=pwf,x=q_flow)\n",
    "plt.xlabel('q_flow')\n",
    "plt.ylabel('pwf')\n",
    "plt.show()"
   ]
  },
  {
   "cell_type": "code",
   "execution_count": null,
   "id": "4e83271c",
   "metadata": {},
   "outputs": [],
   "source": []
  }
 ],
 "metadata": {
  "kernelspec": {
   "display_name": "Python 3 (ipykernel)",
   "language": "python",
   "name": "python3"
  },
  "language_info": {
   "codemirror_mode": {
    "name": "ipython",
    "version": 3
   },
   "file_extension": ".py",
   "mimetype": "text/x-python",
   "name": "python",
   "nbconvert_exporter": "python",
   "pygments_lexer": "ipython3",
   "version": "3.7.11"
  }
 },
 "nbformat": 4,
 "nbformat_minor": 5
}
